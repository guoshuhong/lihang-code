{
 "cells": [
  {
   "cell_type": "code",
   "execution_count": 1,
   "metadata": {},
   "outputs": [],
   "source": [
    "import numpy as np\n"
   ]
  },
  {
   "cell_type": "code",
   "execution_count": 38,
   "metadata": {},
   "outputs": [
    {
     "name": "stdout",
     "output_type": "stream",
     "text": [
      "[[12.64192269 14.64192269 16.64192269 18.64192269]\n",
      " [20.64192269 22.64192269 24.64192269 26.64192269]\n",
      " [28.64192269 30.64192269 32.64192269 34.64192269]]\n"
     ]
    }
   ],
   "source": [
    "a=np.arange(12,36,2).reshape(3,-1)+np.random.normal()#索引－１自动推测\n",
    "print(a)"
   ]
  },
  {
   "cell_type": "code",
   "execution_count": 36,
   "metadata": {},
   "outputs": [
    {
     "name": "stdout",
     "output_type": "stream",
     "text": [
      "[[12 20 28]\n",
      " [14 22 30]\n",
      " [16 24 32]\n",
      " [18 26 34]]\n",
      "int64\n",
      "False\n",
      "False\n",
      "False\n",
      "False\n"
     ]
    }
   ],
   "source": [
    "b=a.copy()\n",
    "c=a.view()\n",
    "d=a.transpose()\n",
    "print(d)\n",
    "print(b.dtype)\n",
    "print(b is a)\n",
    "print(c is a)\n",
    "print(b.base is a)\n",
    "print(c.base is a)"
   ]
  },
  {
   "cell_type": "code",
   "execution_count": 31,
   "metadata": {},
   "outputs": [
    {
     "name": "stdout",
     "output_type": "stream",
     "text": [
      "[[14]\n",
      " [18]]\n",
      "[32 34]\n"
     ]
    }
   ],
   "source": [
    "a1=a[0:2,1:3]\n",
    "a2=a[-1]\n",
    "print(a1)\n",
    "print(a2)"
   ]
  },
  {
   "cell_type": "code",
   "execution_count": null,
   "metadata": {},
   "outputs": [],
   "source": []
  }
 ],
 "metadata": {
  "kernelspec": {
   "display_name": "tf2",
   "language": "python",
   "name": "tf2"
  },
  "language_info": {
   "codemirror_mode": {
    "name": "ipython",
    "version": 3
   },
   "file_extension": ".py",
   "mimetype": "text/x-python",
   "name": "python",
   "nbconvert_exporter": "python",
   "pygments_lexer": "ipython3",
   "version": "3.6.2"
  }
 },
 "nbformat": 4,
 "nbformat_minor": 2
}
